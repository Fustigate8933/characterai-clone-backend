{
 "cells": [
  {
   "cell_type": "code",
   "execution_count": 11,
   "id": "afae1524",
   "metadata": {},
   "outputs": [],
   "source": [
    "from transformers import AutoTokenizer, AutoModelForCausalLM\n",
    "\n",
    "model_name = \"meta-llama/Llama-3.2-1B\"\n",
    "model = AutoModelForCausalLM.from_pretrained(model_name, device_map=\"cuda\")\n",
    "tokenizer = AutoTokenizer.from_pretrained(model_name)"
   ]
  },
  {
   "cell_type": "code",
   "execution_count": null,
   "id": "2ed98460",
   "metadata": {},
   "outputs": [],
   "source": [
    "def format_history(messages):\n",
    "    ans = \"\"\n",
    "    for message in messages:\n",
    "        if message[\"role\"] == \"system\":\n",
    "            ans += f\"<s>[INST] <<SYS>>\\n{message['content']}\\n<</SYS>>\\n\\n\"\n",
    "        elif message[\"role\"] == \"user\":\n",
    "            ans += f\"{message['content']} [/INST]\"\n",
    "        else: # assistant\n",
    "            ans += f\" {message['content']} </s><s>[INST] \"\n",
    "    return ans.strip()"
   ]
  },
  {
   "cell_type": "code",
   "execution_count": 34,
   "id": "d96c5616",
   "metadata": {},
   "outputs": [
    {
     "data": {
      "text/plain": [
       "Setting `pad_token_id` to `eos_token_id`:None for open-end generation.\n"
      ]
     },
     "metadata": {},
     "output_type": "display_data"
    }
   ],
   "source": [
    "inp = \"\"\"You are an AI assistant. Please introduce yourself briefly!\"\"\"\n",
    "tokenized = tokenizer(inp, return_tensors=\"pt\").to(model.device)\n",
    "inp_ids = tokenized.input_ids\n",
    "inp_mask = tokenized.attention_mask\n",
    "\n",
    "# config = model.config\n",
    "\n",
    "output = model.generate(inp_ids, max_new_tokens=200, attention_mask=inp_mask, eos_token_id=tokenizer.eos_token_id, temperature=0.7, top_k=50)"
   ]
  },
  {
   "cell_type": "code",
   "execution_count": 36,
   "id": "64f0588b",
   "metadata": {
    "lines_to_next_cell": 0
   },
   "outputs": [
    {
     "data": {
      "text/plain": [
       "128001"
      ]
     },
     "metadata": {},
     "output_type": "display_data"
    }
   ],
   "source": [
    "# model.config\n",
    "# help(model.generate)\n",
    "# print(output)\n",
    "# tokenizer.decode(output[0])"
   ]
  },
  {
   "cell_type": "markdown",
   "id": "46a89583",
   "metadata": {},
   "source": []
  }
 ],
 "metadata": {
  "kernelspec": {
   "display_name": "Python 3 (ipykernel)",
   "language": "python",
   "name": "python3"
  },
  "language_info": {
   "codemirror_mode": {
    "name": "ipython",
    "version": 3
   },
   "file_extension": ".py",
   "mimetype": "text/x-python",
   "name": "python",
   "nbconvert_exporter": "python",
   "pygments_lexer": "ipython3",
   "version": "3.11.7"
  }
 },
 "nbformat": 4,
 "nbformat_minor": 5
}
