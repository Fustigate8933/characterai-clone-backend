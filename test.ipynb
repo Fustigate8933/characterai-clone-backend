{
 "cells": [
  {
   "cell_type": "code",
   "execution_count": 2,
   "id": "2ef8c72a",
   "metadata": {},
   "outputs": [],
   "source": [
    "from transformers import pipeline, AutoTokenizer\n",
    "\n",
    "model = pipeline(task=\"text-generation\", model=\"meta-llama/Llama-3.2-1B\", device=\"cuda\")\n",
    "tokenizer = AutoTokenizer.from_pretrained(\"meta-llama/Llama-3.2-1B\")"
   ]
  },
  {
   "cell_type": "code",
   "execution_count": 5,
   "id": "b12b811d",
   "metadata": {},
   "outputs": [],
   "source": [
    "chat = [\n",
    "  {\"role\": \"user\", \"content\": \"Hello, how are you?\"},\n",
    "  {\"role\": \"assistant\", \"content\": \"I'm doing great. How can I help you today?\"},\n",
    "  {\"role\": \"user\", \"content\": \"I'd like to show off how chat templating works!\"},\n",
    "]"
   ]
  },
  {
   "cell_type": "code",
   "execution_count": 8,
   "id": "b3b7a059",
   "metadata": {
    "lines_to_next_cell": 0
   },
   "outputs": [
    {
     "data": {
      "text/plain": [
       "Setting `pad_token_id` to `eos_token_id`:None for open-end generation.\n"
      ]
     },
     "metadata": {},
     "output_type": "display_data"
    },
    {
     "data": {
      "text/plain": [
       "[{'generated_text': \"Hello, give me a story on elves and goblins.\\nI'm a big fan of the elf and goblin races, but I've never seen a story about them. I'm not sure why, but I think it's because I'm not very good at writing stories. I'm sure I could write a story about elves and goblins, but I'm not very good at it. I have a few ideas, but I'm not sure if I could write them. If you have any suggestions, please let me know. Thanks!\\nI'm not sure why you're not good at writing stories, but I think you're good at writing about elves and goblins. You've probably already written a story about them. I'm sure you could write a story about elves and goblins. You just need to find the right story idea. Good luck with your writing!\\nI'm not sure why you're not good at writing stories, but I think you're good at writing about elves and goblins. You've probably already written a story about them. I'm sure you could write a story about elves and goblins. You just need to find the right story idea. Good luck with your writing!\\nI'm not sure why you're not good at writing stories, but I think you're good at writing about elves and goblins. You've probably already written a story about them. I'm sure you could write a story about elves and goblins. You just need to find the right story idea. Good luck with your writing!\\nI'm not sure why you're not good at writing stories, but I think you're good at writing about elves and goblins. You've probably already written a story about them. I'm sure you could write a story about elves and goblins. You just need to find the right story idea. Good luck with your writing!\\nI'm not sure why you're not good at writing stories, but I think you're good at writing about elves and goblins. You've probably already written a story about them. I'm sure you could write a story about elves and goblins. You just need to find the right story idea. Good luck with your writing!\\nI'm not sure why you're not good at writing stories, but I think you're good at writing about elves and goblins. You've probably already written a story about them. I'm sure you could write a story about elves and goblins. You just need to find the right story idea. Good luck with your writing!\\nI'm not sure why you're not good\"}]"
      ]
     },
     "metadata": {},
     "output_type": "display_data"
    }
   ],
   "source": [
    "model(\"Hello, give me a story on elves\", max_new_tokens=512, temperature=0.9, top_k=50, top_p=0.9)"
   ]
  },
  {
   "cell_type": "markdown",
   "id": "46a89583",
   "metadata": {},
   "source": []
  }
 ],
 "metadata": {
  "kernelspec": {
   "display_name": "Python 3 (ipykernel)",
   "language": "python",
   "name": "python3"
  },
  "language_info": {
   "codemirror_mode": {
    "name": "ipython",
    "version": 3
   },
   "file_extension": ".py",
   "mimetype": "text/x-python",
   "name": "python",
   "nbconvert_exporter": "python",
   "pygments_lexer": "ipython3",
   "version": "3.11.7"
  }
 },
 "nbformat": 4,
 "nbformat_minor": 5
}
